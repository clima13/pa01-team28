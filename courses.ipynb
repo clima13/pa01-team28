{
 "cells": [
  {
   "cell_type": "markdown",
   "metadata": {},
   "source": [
    "# Courses Demo\n",
    "This Jupyter notebook is for exploring the data set courses20-21.json\n",
    "which consists of all Brandeis courses in the 20-21 academic year (Fall20, Spr21, Sum21) \n",
    "which had at least 1 student enrolled.\n",
    "\n",
    "First we need to read the json file into a list of Python dictionaries"
   ]
  },
  {
   "cell_type": "code",
   "execution_count": null,
   "metadata": {},
   "outputs": [],
   "source": [
    "import json"
   ]
  },
  {
   "cell_type": "code",
   "execution_count": null,
   "metadata": {},
   "outputs": [],
   "source": [
    "with open(\"courses20-21.json\",\"r\",encoding='utf-8') as jsonfile:\n",
    "    courses = json.load(jsonfile)"
   ]
  },
  {
   "cell_type": "markdown",
   "metadata": {},
   "source": [
    "## Structure of a course\n",
    "Next we look at the fields of each course dictionary and their values"
   ]
  },
  {
   "cell_type": "code",
   "execution_count": null,
   "metadata": {},
   "outputs": [],
   "source": [
    "print('there are',len(courses),'courses in the dataset')\n",
    "print('here is the data for course 1246')\n",
    "courses[1246]"
   ]
  },
  {
   "cell_type": "markdown",
   "metadata": {},
   "source": [
    "## Cleaning the data\n",
    "If we want to sort courses by instructor or by code, we need to replace the lists with tuples (which are immutable lists)"
   ]
  },
  {
   "cell_type": "code",
   "execution_count": null,
   "metadata": {},
   "outputs": [],
   "source": [
    "for course in courses:\n",
    "        course['instructor'] = tuple(course['instructor'])\n",
    "        course['coinstructors'] = tuple([tuple(f) for f in course['coinstructors']])\n",
    "        course['code']= tuple(course['code'])"
   ]
  },
  {
   "cell_type": "code",
   "execution_count": null,
   "metadata": {},
   "outputs": [],
   "source": [
    "print('notice that the instructor and code are tuples now')\n",
    "courses[1246]"
   ]
  },
  {
   "cell_type": "markdown",
   "metadata": {},
   "source": [
    "# Exploring the data set\n",
    "Now we will show how to use straight python to explore the data set and answer some interesting questions. Next week we will start learning Pandas/Numpy which are packages that make it easier to explore large dataset efficiently.\n",
    "\n",
    "Here are some questions we can try to asnwer:\n",
    "* what are all of the subjects of courses (e.g. COSI, MATH, JAPN, PHIL, ...)\n",
    "* which terms are represented?\n",
    "* how many instructors taught at Brandeis last year?\n",
    "* what were the five largest course sections?\n",
    "* what were the five largest courses (where we combine sections)?\n",
    "* which are the five largest subjects measured by number of courses offered?\n",
    "* which are the five largest courses measured by number of students taught?\n",
    "* which course had the most sections taught in 20-21?\n",
    "* who are the top five faculty in terms of number of students taught?\n",
    "* etc."
   ]
  },
  {
   "cell_type": "code",
   "execution_count": null,
   "metadata": {},
   "outputs": [],
   "source": [
    "[c2['name'] + \", \" + str(c2['enrolled']) for c2 in sorted([c for c in courses], key=lambda c: -c['enrolled'])][:5]"
   ]
  },
  {
   "cell_type": "code",
   "execution_count": null,
   "metadata": {},
   "outputs": [],
   "source": [
    "[c2['name'] + \", \" + str(c2['enrolled']) for c2 in sorted([c for c in courses if c['subject'] == \"MATH\"], key=lambda c: -c['enrolled'])][:20]"
   ]
  },
  {
   "cell_type": "code",
   "execution_count": null,
   "metadata": {},
   "outputs": [],
   "source": [
    "# ***Personal tests can delete***\n",
    "\n",
    "temp = [c2['instructor'][1] for c2 in sorted([c for c in courses if (c['subject'] == \"COSI\") and (c['enrolled'] >= 1)], key=lambda c: -c['enrolled'])][:]\n",
    "hold = [c2['coinstructors'] for c2 in sorted([c for c in courses if (c['subject'] == \"COSI\") and (not c['coinstructors'])], key=lambda c: -c['enrolled'])][:]\n",
    "store = hold + temp\n",
    "retu = []\n",
    "for a in store:\n",
    "    if a not in retu and not not a:\n",
    "        retu.append(a)\n",
    "\n",
    "print(\"***This includes both instructors and coinstructors as faculty***\")\n",
    "print(\"Total number of faculty that taught COSI last year: \" + str(len(retu)))"
   ]
  },
  {
   "cell_type": "code",
   "execution_count": null,
   "metadata": {},
   "outputs": [],
   "source": [
    "# ***Personal tests can delete***\n",
    "\n",
    "retu = int(sum([(c2['enrolled']) for c2 in sorted([c for c in courses if (c['subject'] == \"COSI\") and (c['enrolled'] >= 1)], key=lambda c: -c['enrolled'])][:]))\n",
    "print(\"Total number of students enrolled in COSI courses: \" + str(retu))"
   ]
  },
  {
   "cell_type": "code",
   "execution_count": null,
   "metadata": {},
   "outputs": [],
   "source": [
    "# \"Nathan Cai Question 5e\"\n",
    "\n",
    "temp = ([c2['subject'] for c2 in sorted([c for c in courses if c['enrolled'] >= 1], key=lambda c: -c['enrolled'])][:])\n",
    "hold = []\n",
    "for a in temp:\n",
    "    if a not in hold:\n",
    "        hold.append(a)\n",
    "retu = []      \n",
    "for subject in hold:\n",
    "    EnNum = int(sum([1 for c2 in sorted([c for c in courses if (c['subject'] == str(subject)) and (c['enrolled'] >= 1)], key=lambda c: -c['enrolled'])][:]))\n",
    "    retu.append((subject, EnNum))\n",
    "\n",
    "lst = len(retu) \n",
    "for i in range(0, lst): \n",
    "          \n",
    "    for j in range(0, lst-i-1): \n",
    "        if (retu[j][1] > retu[j + 1][1]): \n",
    "            store = retu[j] \n",
    "            retu[j]= retu[j + 1] \n",
    "            retu[j + 1]= store \n",
    "retu.reverse()\n",
    "print(\"Top 10 subjects in terms of number of courses\")\n",
    "print(retu[:10])"
   ]
  },
  {
   "cell_type": "code",
   "execution_count": null,
   "metadata": {},
   "outputs": [],
   "source": [
    "# \"Nathan Cai Question 5f\"\n",
    "\n",
    "temp = ([c2['subject'] for c2 in sorted([c for c in courses if c['enrolled'] >= 1], key=lambda c: -c['enrolled'])][:])\n",
    "hold = []\n",
    "for a in temp:\n",
    "    if a not in hold:\n",
    "        hold.append(a)\n",
    "retu = []      \n",
    "for subject in hold:\n",
    "    temp1 = [c2['instructor'][1] for c2 in sorted([c for c in courses if (c['subject'] == str(subject)) and (c['enrolled'] >= 1)], key=lambda c: -c['enrolled'])][:]\n",
    "    temp2 = [c2['coinstructors'] for c2 in sorted([c for c in courses if (c['subject'] == str(subject)) and (not c['coinstructors'])], key=lambda c: -c['enrolled'])][:]\n",
    "    temp3 = temp1 + temp2\n",
    "    hold1 = []\n",
    "    for a in temp3:\n",
    "        if a not in hold1 and not not a:\n",
    "            hold1.append(a)\n",
    "    retu.append((subject, len(hold1)))\n",
    "\n",
    "lst = len(retu) \n",
    "for i in range(0, lst): \n",
    "          \n",
    "    for j in range(0, lst-i-1): \n",
    "        if (retu[j][1] > retu[j + 1][1]): \n",
    "            store = retu[j] \n",
    "            retu[j]= retu[j + 1] \n",
    "            retu[j + 1]= store \n",
    "retu.reverse()\n",
    "print(\"Top 10 subjects in terms of number of faculty\")\n",
    "print(retu[:10])"
   ]
  },
  {
   "cell_type": "code",
   "execution_count": null,
   "metadata": {},
   "outputs": [],
   "source": []
  }
 ],
 "metadata": {
  "kernelspec": {
   "display_name": "Python 3 (ipykernel)",
   "language": "python",
   "name": "python3"
  },
  "language_info": {
   "codemirror_mode": {
    "name": "ipython",
    "version": 3
   },
   "file_extension": ".py",
   "mimetype": "text/x-python",
   "name": "python",
   "nbconvert_exporter": "python",
   "pygments_lexer": "ipython3",
   "version": "3.9.7"
  }
 },
 "nbformat": 4,
 "nbformat_minor": 4
}
